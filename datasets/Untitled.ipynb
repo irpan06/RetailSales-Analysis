{
 "cells": [
  {
   "cell_type": "code",
   "execution_count": 4,
   "id": "dc999b3c-b8be-4248-9105-273c8f913ba1",
   "metadata": {},
   "outputs": [
    {
     "name": "stdout",
     "output_type": "stream",
     "text": [
      "✅ Data berhasil diimport ke tabel 'saless'\n"
     ]
    }
   ],
   "source": [
    "import pandas as pd\n",
    "from sqlalchemy import create_engine\n",
    "\n",
    "# --- 1. Baca dataset ---\n",
    "file_path = \"SQL - Retail Sales Analysis_utf .csv\"\n",
    "df = pd.read_csv(file_path)\n",
    "\n",
    "# --- 2. Bersihkan nilai kosong ---\n",
    "df = df.replace(r'^\\s*$', None, regex=True)\n",
    "\n",
    "# --- 3. Perbaiki nama kolom yang typo (jika ada) ---\n",
    "df = df.rename(columns={\n",
    "    'quantiy': 'quantity',\n",
    "    'prirce_per_unit': 'price_per_unit'\n",
    "})\n",
    "\n",
    "# --- 4. Koneksi ke MySQL ---\n",
    "# ganti user, password sesuai setting MySQL kamu\n",
    "user = \"root\"\n",
    "password = \"1rvand!m20\"   # ← ubah ke password MySQL kamu\n",
    "host = \"localhost\"\n",
    "database = \"belajar_sql\"\n",
    "\n",
    "engine = create_engine(f\"mysql+pymysql://{user}:{password}@{host}/{database}\")\n",
    "\n",
    "# --- 5. Simpan ke MySQL ---\n",
    "# otomatis membuat tabel \"saless\" jika belum ada\n",
    "df.to_sql(\"saless\", con=engine, if_exists=\"append\", index=False)\n",
    "\n",
    "print(\"✅ Data berhasil diimport ke tabel 'saless'\")\n"
   ]
  },
  {
   "cell_type": "code",
   "execution_count": 2,
   "id": "253627e2-9364-4790-90d9-1ed7c17e44b7",
   "metadata": {},
   "outputs": [
    {
     "name": "stdout",
     "output_type": "stream",
     "text": [
      "<class 'pandas.core.frame.DataFrame'>\n",
      "RangeIndex: 2000 entries, 0 to 1999\n",
      "Data columns (total 11 columns):\n",
      " #   Column           Non-Null Count  Dtype  \n",
      "---  ------           --------------  -----  \n",
      " 0   transactions_id  2000 non-null   int64  \n",
      " 1   sale_date        2000 non-null   object \n",
      " 2   sale_time        2000 non-null   object \n",
      " 3   customer_id      2000 non-null   int64  \n",
      " 4   gender           2000 non-null   object \n",
      " 5   age              1990 non-null   float64\n",
      " 6   category         2000 non-null   object \n",
      " 7   quantity         1997 non-null   float64\n",
      " 8   price_per_unit   1997 non-null   float64\n",
      " 9   cogs             1997 non-null   float64\n",
      " 10  total_sale       1997 non-null   float64\n",
      "dtypes: float64(5), int64(2), object(4)\n",
      "memory usage: 172.0+ KB\n"
     ]
    }
   ],
   "source": [
    "df.info()"
   ]
  }
 ],
 "metadata": {
  "kernelspec": {
   "display_name": "Python [conda env:base] *",
   "language": "python",
   "name": "conda-base-py"
  },
  "language_info": {
   "codemirror_mode": {
    "name": "ipython",
    "version": 3
   },
   "file_extension": ".py",
   "mimetype": "text/x-python",
   "name": "python",
   "nbconvert_exporter": "python",
   "pygments_lexer": "ipython3",
   "version": "3.9.23"
  }
 },
 "nbformat": 4,
 "nbformat_minor": 5
}
